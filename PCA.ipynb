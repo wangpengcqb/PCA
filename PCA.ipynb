{
 "cells": [
  {
   "cell_type": "code",
   "execution_count": 104,
   "metadata": {
    "collapsed": false
   },
   "outputs": [
    {
     "name": "stdout",
     "output_type": "stream",
     "text": [
      "Populating the interactive namespace from numpy and matplotlib\n"
     ]
    }
   ],
   "source": [
    "%pylab inline"
   ]
  },
  {
   "cell_type": "code",
   "execution_count": 105,
   "metadata": {
    "collapsed": false
   },
   "outputs": [],
   "source": [
    "import pandas as pd\n",
    "\n",
    "df_rating = pd.read_csv('MovieRatings.txt')"
   ]
  },
  {
   "cell_type": "code",
   "execution_count": 106,
   "metadata": {
    "collapsed": false
   },
   "outputs": [
    {
     "data": {
      "text/html": [
       "<div>\n",
       "<table border=\"1\" class=\"dataframe\">\n",
       "  <thead>\n",
       "    <tr style=\"text-align: right;\">\n",
       "      <th></th>\n",
       "      <th>Label</th>\n",
       "      <th>Matrix</th>\n",
       "      <th>Alien</th>\n",
       "      <th>Serenity</th>\n",
       "      <th>Casablanca</th>\n",
       "      <th>Amelie</th>\n",
       "      <th>Lovestory</th>\n",
       "    </tr>\n",
       "  </thead>\n",
       "  <tbody>\n",
       "    <tr>\n",
       "      <th>0</th>\n",
       "      <td>1</td>\n",
       "      <td>5</td>\n",
       "      <td>5</td>\n",
       "      <td>5</td>\n",
       "      <td>0</td>\n",
       "      <td>1</td>\n",
       "      <td>2</td>\n",
       "    </tr>\n",
       "    <tr>\n",
       "      <th>1</th>\n",
       "      <td>1</td>\n",
       "      <td>5</td>\n",
       "      <td>5</td>\n",
       "      <td>4</td>\n",
       "      <td>0</td>\n",
       "      <td>0</td>\n",
       "      <td>1</td>\n",
       "    </tr>\n",
       "    <tr>\n",
       "      <th>2</th>\n",
       "      <td>1</td>\n",
       "      <td>5</td>\n",
       "      <td>4</td>\n",
       "      <td>5</td>\n",
       "      <td>0</td>\n",
       "      <td>0</td>\n",
       "      <td>0</td>\n",
       "    </tr>\n",
       "    <tr>\n",
       "      <th>3</th>\n",
       "      <td>1</td>\n",
       "      <td>3</td>\n",
       "      <td>5</td>\n",
       "      <td>5</td>\n",
       "      <td>1</td>\n",
       "      <td>0</td>\n",
       "      <td>1</td>\n",
       "    </tr>\n",
       "    <tr>\n",
       "      <th>4</th>\n",
       "      <td>2</td>\n",
       "      <td>0</td>\n",
       "      <td>2</td>\n",
       "      <td>0</td>\n",
       "      <td>4</td>\n",
       "      <td>4</td>\n",
       "      <td>5</td>\n",
       "    </tr>\n",
       "    <tr>\n",
       "      <th>5</th>\n",
       "      <td>2</td>\n",
       "      <td>0</td>\n",
       "      <td>0</td>\n",
       "      <td>0</td>\n",
       "      <td>5</td>\n",
       "      <td>5</td>\n",
       "      <td>4</td>\n",
       "    </tr>\n",
       "    <tr>\n",
       "      <th>6</th>\n",
       "      <td>2</td>\n",
       "      <td>0</td>\n",
       "      <td>1</td>\n",
       "      <td>0</td>\n",
       "      <td>5</td>\n",
       "      <td>5</td>\n",
       "      <td>5</td>\n",
       "    </tr>\n",
       "    <tr>\n",
       "      <th>7</th>\n",
       "      <td>2</td>\n",
       "      <td>1</td>\n",
       "      <td>1</td>\n",
       "      <td>1</td>\n",
       "      <td>5</td>\n",
       "      <td>4</td>\n",
       "      <td>5</td>\n",
       "    </tr>\n",
       "    <tr>\n",
       "      <th>8</th>\n",
       "      <td>3</td>\n",
       "      <td>5</td>\n",
       "      <td>5</td>\n",
       "      <td>3</td>\n",
       "      <td>5</td>\n",
       "      <td>5</td>\n",
       "      <td>4</td>\n",
       "    </tr>\n",
       "    <tr>\n",
       "      <th>9</th>\n",
       "      <td>3</td>\n",
       "      <td>5</td>\n",
       "      <td>4</td>\n",
       "      <td>5</td>\n",
       "      <td>5</td>\n",
       "      <td>4</td>\n",
       "      <td>3</td>\n",
       "    </tr>\n",
       "    <tr>\n",
       "      <th>10</th>\n",
       "      <td>3</td>\n",
       "      <td>4</td>\n",
       "      <td>5</td>\n",
       "      <td>4</td>\n",
       "      <td>3</td>\n",
       "      <td>5</td>\n",
       "      <td>4</td>\n",
       "    </tr>\n",
       "    <tr>\n",
       "      <th>11</th>\n",
       "      <td>3</td>\n",
       "      <td>5</td>\n",
       "      <td>5</td>\n",
       "      <td>4</td>\n",
       "      <td>5</td>\n",
       "      <td>4</td>\n",
       "      <td>4</td>\n",
       "    </tr>\n",
       "    <tr>\n",
       "      <th>12</th>\n",
       "      <td>4</td>\n",
       "      <td>0</td>\n",
       "      <td>0</td>\n",
       "      <td>0</td>\n",
       "      <td>1</td>\n",
       "      <td>0</td>\n",
       "      <td>1</td>\n",
       "    </tr>\n",
       "    <tr>\n",
       "      <th>13</th>\n",
       "      <td>4</td>\n",
       "      <td>1</td>\n",
       "      <td>0</td>\n",
       "      <td>0</td>\n",
       "      <td>2</td>\n",
       "      <td>1</td>\n",
       "      <td>0</td>\n",
       "    </tr>\n",
       "    <tr>\n",
       "      <th>14</th>\n",
       "      <td>4</td>\n",
       "      <td>1</td>\n",
       "      <td>2</td>\n",
       "      <td>3</td>\n",
       "      <td>1</td>\n",
       "      <td>0</td>\n",
       "      <td>0</td>\n",
       "    </tr>\n",
       "    <tr>\n",
       "      <th>15</th>\n",
       "      <td>4</td>\n",
       "      <td>1</td>\n",
       "      <td>2</td>\n",
       "      <td>0</td>\n",
       "      <td>1</td>\n",
       "      <td>2</td>\n",
       "      <td>0</td>\n",
       "    </tr>\n",
       "  </tbody>\n",
       "</table>\n",
       "</div>"
      ],
      "text/plain": [
       "    Label  Matrix  Alien  Serenity  Casablanca  Amelie  Lovestory\n",
       "0       1       5      5         5           0       1          2\n",
       "1       1       5      5         4           0       0          1\n",
       "2       1       5      4         5           0       0          0\n",
       "3       1       3      5         5           1       0          1\n",
       "4       2       0      2         0           4       4          5\n",
       "5       2       0      0         0           5       5          4\n",
       "6       2       0      1         0           5       5          5\n",
       "7       2       1      1         1           5       4          5\n",
       "8       3       5      5         3           5       5          4\n",
       "9       3       5      4         5           5       4          3\n",
       "10      3       4      5         4           3       5          4\n",
       "11      3       5      5         4           5       4          4\n",
       "12      4       0      0         0           1       0          1\n",
       "13      4       1      0         0           2       1          0\n",
       "14      4       1      2         3           1       0          0\n",
       "15      4       1      2         0           1       2          0"
      ]
     },
     "execution_count": 106,
     "metadata": {},
     "output_type": "execute_result"
    }
   ],
   "source": [
    "df_rating"
   ]
  },
  {
   "cell_type": "code",
   "execution_count": 107,
   "metadata": {
    "collapsed": false
   },
   "outputs": [],
   "source": [
    "from sklearn.preprocessing import StandardScaler\n",
    "sc = StandardScaler()\n",
    "X, y = df_rating.iloc[:, 1:].values, df_rating.iloc[:, 0].values\n",
    "X_std = sc.fit_transform(X.astype(numpy.float64))"
   ]
  },
  {
   "cell_type": "code",
   "execution_count": 108,
   "metadata": {
    "collapsed": false
   },
   "outputs": [
    {
     "name": "stdout",
     "output_type": "stream",
     "text": [
      "[[ 1.06666667  0.96521186  0.95158901 -0.16899687 -0.08154738 -0.09513726]\n",
      " [ 0.96521186  1.06666667  0.94309726 -0.18911713 -0.0479028  -0.002157  ]\n",
      " [ 0.95158901  0.94309726  1.06666667 -0.30341678 -0.26305108 -0.1959472 ]\n",
      " [-0.16899687 -0.18911713 -0.30341678  1.06666667  0.97030661  0.90913378]\n",
      " [-0.08154738 -0.0479028  -0.26305108  0.97030661  1.06666667  0.94688718]\n",
      " [-0.09513726 -0.002157   -0.1959472   0.90913378  0.94688718  1.06666667]]\n"
     ]
    }
   ],
   "source": [
    "import numpy as np\n",
    "covariant_matrix = np.cov(X_std.T)\n",
    "print(covariant_matrix)"
   ]
  },
  {
   "cell_type": "code",
   "execution_count": 109,
   "metadata": {
    "collapsed": false
   },
   "outputs": [
    {
     "name": "stdout",
     "output_type": "stream",
     "text": [
      "[ 3.42231044  2.52950698  0.18898832  0.13888639  0.06941311  0.05089476]\n",
      "\n",
      "\n",
      "[[ 0.39899925  0.42317036  0.37689989 -0.29450793 -0.65478594 -0.06475619]\n",
      " [ 0.38571437  0.441275   -0.38153996 -0.31283853  0.39085676  0.51018732]\n",
      " [ 0.44757258  0.34847941  0.08362467  0.64694183  0.29533205 -0.40680836]\n",
      " [-0.42992215  0.37170338  0.55025666  0.30426767  0.10671195  0.51986046]\n",
      " [-0.40194939  0.42499582  0.10587192 -0.47057695  0.35633206 -0.54606884]\n",
      " [-0.38119081  0.43125454 -0.62561121  0.28782272 -0.43920993 -0.03970413]]\n"
     ]
    }
   ],
   "source": [
    "eigen_values, eigen_vectors = np.linalg.eig(covariant_matrix)\n",
    "print(eigen_values)\n",
    "print('\\n')\n",
    "print(eigen_vectors)"
   ]
  },
  {
   "cell_type": "code",
   "execution_count": 119,
   "metadata": {
    "collapsed": false
   },
   "outputs": [
    {
     "data": {
      "image/png": "[encoded data removed]",
      "text/plain": [
       "<matplotlib.figure.Figure at 0x845e6b0>"
      ]
     },
     "metadata": {},
     "output_type": "display_data"
    }
   ],
   "source": [
    "tot = sum(eigen_values)\n",
    "var_exp = [(i/tot) for i in sorted(eigen_values, reverse = True)]\n",
    "cum_var_exp = np.cumsum(var_exp)\n",
    "\n",
    "bar(range(1, len(eigen_values)+1), var_exp, alpha=0.5, \\\n",
    "    align='center', label='Individual explained variance')\n",
    "step(range(1, len(eigen_values)+1), cum_var_exp,\\\n",
    "     where='mid', label='Cumulative explained variance')\n",
    "\n",
    "ylim([0,1])\n",
    "xlabel('Principal components')\n",
    "ylabel('Explained variance ratio')\n",
    "legend(loc='best')\n",
    "show()"
   ]
  },
  {
   "cell_type": "code",
   "execution_count": 111,
   "metadata": {
    "collapsed": false
   },
   "outputs": [
    {
     "data": {
      "text/plain": [
       "[(3.4223104409835177,\n",
       "  array([ 0.39899925,  0.38571437,  0.44757258, -0.42992215, -0.40194939,\n",
       "         -0.38119081])),\n",
       " (2.5295069820935643,\n",
       "  array([ 0.42317036,  0.441275  ,  0.34847941,  0.37170338,  0.42499582,\n",
       "          0.43125454])),\n",
       " (0.18898832086212394,\n",
       "  array([ 0.37689989, -0.38153996,  0.08362467,  0.55025666,  0.10587192,\n",
       "         -0.62561121])),\n",
       " (0.13888638993648772,\n",
       "  array([-0.29450793, -0.31283853,  0.64694183,  0.30426767, -0.47057695,\n",
       "          0.28782272])),\n",
       " (0.06941310561580262,\n",
       "  array([-0.65478594,  0.39085676,  0.29533205,  0.10671195,  0.35633206,\n",
       "         -0.43920993])),\n",
       " (0.050894760508503452,\n",
       "  array([-0.06475619,  0.51018732, -0.40680836,  0.51986046, -0.54606884,\n",
       "         -0.03970413]))]"
      ]
     },
     "execution_count": 111,
     "metadata": {},
     "output_type": "execute_result"
    }
   ],
   "source": [
    "eigen_pairs = [(np.abs(eigen_values[i]), eigen_vectors[:, i]) for i in range(len(eigen_values))]\n",
    "eigen_pairs.sort(reverse=True)\n",
    "eigen_pairs"
   ]
  },
  {
   "cell_type": "code",
   "execution_count": 112,
   "metadata": {
    "collapsed": false
   },
   "outputs": [
    {
     "data": {
      "text/plain": [
       "(6, 2)"
      ]
     },
     "execution_count": 112,
     "metadata": {},
     "output_type": "execute_result"
    }
   ],
   "source": [
    "w = np.hstack((eigen_pairs[0][1][:, np.newaxis],  eigen_pairs[1][1][:, np.newaxis]))\n",
    "w.shape"
   ]
  },
  {
   "cell_type": "code",
   "execution_count": 120,
   "metadata": {
    "collapsed": false
   },
   "outputs": [
    {
     "name": "stdout",
     "output_type": "stream",
     "text": [
      "[[ 0.39899925  0.42317036]\n",
      " [ 0.38571437  0.441275  ]\n",
      " [ 0.44757258  0.34847941]\n",
      " [-0.42992215  0.37170338]\n",
      " [-0.40194939  0.42499582]\n",
      " [-0.38119081  0.43125454]]\n"
     ]
    }
   ],
   "source": [
    "print(w)"
   ]
  },
  {
   "cell_type": "code",
   "execution_count": 121,
   "metadata": {
    "collapsed": false
   },
   "outputs": [
    {
     "name": "stdout",
     "output_type": "stream",
     "text": [
      "[ 1.13389342  1.06458129  1.20849872 -1.30905452 -0.71713717 -0.22604179]\n"
     ]
    }
   ],
   "source": [
    "print(X_std[0])"
   ]
  },
  {
   "cell_type": "code",
   "execution_count": 122,
   "metadata": {
    "collapsed": false
   },
   "outputs": [
    {
     "name": "stdout",
     "output_type": "stream",
     "text": [
      "[ 2.34114726  0.48189829]\n"
     ]
    }
   ],
   "source": [
    "print(X_std[0].dot(w))"
   ]
  },
  {
   "cell_type": "code",
   "execution_count": 116,
   "metadata": {
    "collapsed": false
   },
   "outputs": [],
   "source": [
    "X_pca = X_std.dot(w)"
   ]
  },
  {
   "cell_type": "code",
   "execution_count": 117,
   "metadata": {
    "collapsed": false
   },
   "outputs": [
    {
     "data": {
      "image/png": "[encoded data removed]",
      "text/plain": [
       "<matplotlib.figure.Figure at 0x86fb3d0>"
      ]
     },
     "metadata": {},
     "output_type": "display_data"
    }
   ],
   "source": [
    "colors = ['r', 'b', 'g', 'y']\n",
    "markers = ['s', 'x', 'o', '^']\n",
    "\n",
    "for l, c, m in zip(np.unique(y), colors, markers):\n",
    "    scatter(X_pca[y==l, 0], X_pca[y==l, 1], c=c, label=l, marker=m)\n",
    "xlabel('PC 1')\n",
    "ylabel('PC 2')\n",
    "legend(loc='best')\n",
    "show()"
   ]
  },
  {
   "cell_type": "code",
   "execution_count": 123,
   "metadata": {
    "collapsed": false
   },
   "outputs": [
    {
     "data": {
      "image/png": "[encoded data removed]",
      "text/plain": [
       "<matplotlib.figure.Figure at 0x8759990>"
      ]
     },
     "metadata": {},
     "output_type": "display_data"
    }
   ],
   "source": [
    "from sklearn.decomposition import PCA\n",
    "pca = PCA(n_components = 2)\n",
    "X_pca_data = pca.fit_transform(X_std)\n",
    "\n",
    "colors = ['r', 'b', 'g', 'y']\n",
    "markers = ['s', 'x', 'o', '^']\n",
    "\n",
    "for l, c, m in zip(np.unique(y), colors, markers):\n",
    "    scatter(X_pca_data[y==l, 0], X_pca_data[y==l, 1],\\\n",
    "            c=c, label=l, marker=m)\n",
    "xlabel('PC 1')\n",
    "ylabel('PC 2')\n",
    "legend(loc='best')\n",
    "show()"
   ]
  },
  {
   "cell_type": "code",
   "execution_count": null,
   "metadata": {
    "collapsed": true
   },
   "outputs": [],
   "source": []
  }
 ],
 "metadata": {
  "kernelspec": {
   "display_name": "Python 3",
   "language": "python",
   "name": "python3"
  },
  "language_info": {
   "codemirror_mode": {
    "name": "ipython",
    "version": 3
   },
   "file_extension": ".py",
   "mimetype": "text/x-python",
   "name": "python",
   "nbconvert_exporter": "python",
   "pygments_lexer": "ipython3",
   "version": "3.5.2"
  }
 },
 "nbformat": 4,
 "nbformat_minor": 1
}
